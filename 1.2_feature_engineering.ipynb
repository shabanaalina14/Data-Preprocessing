{
 "cells": [
  {
   "cell_type": "markdown",
   "metadata": {},
   "source": [
    "# feature engineering\n",
    "\n",
    "- creating new features:\n",
    "\n",
    "- encoding : one-hot ,label"
   ]
  },
  {
   "cell_type": "code",
   "execution_count": 37,
   "metadata": {},
   "outputs": [],
   "source": [
    "import numpy as np\n",
    "import pandas as pd\n",
    "data={'Height': [1.75, 1.80, 1.65, 1.90],\n",
    "    'Weight': [65, 70, 60, 80],\n",
    "    'Category': ['A', 'B', 'A', 'C'],\n",
    "    'Date': pd.to_datetime(['2021-01-01', '2021-02-15', '2021-03-20', '2021-04-25'])\n",
    "}"
   ]
  },
  {
   "cell_type": "code",
   "execution_count": 38,
   "metadata": {},
   "outputs": [
    {
     "data": {
      "text/plain": [
       "{'Height': [1.75, 1.8, 1.65, 1.9],\n",
       " 'Weight': [65, 70, 60, 80],\n",
       " 'Category': ['A', 'B', 'A', 'C'],\n",
       " 'Date': DatetimeIndex(['2021-01-01', '2021-02-15', '2021-03-20', '2021-04-25'], dtype='datetime64[ns]', freq=None)}"
      ]
     },
     "execution_count": 38,
     "metadata": {},
     "output_type": "execute_result"
    }
   ],
   "source": [
    "data"
   ]
  },
  {
   "cell_type": "code",
   "execution_count": 39,
   "metadata": {},
   "outputs": [
    {
     "data": {
      "text/html": [
       "<div>\n",
       "<style scoped>\n",
       "    .dataframe tbody tr th:only-of-type {\n",
       "        vertical-align: middle;\n",
       "    }\n",
       "\n",
       "    .dataframe tbody tr th {\n",
       "        vertical-align: top;\n",
       "    }\n",
       "\n",
       "    .dataframe thead th {\n",
       "        text-align: right;\n",
       "    }\n",
       "</style>\n",
       "<table border=\"1\" class=\"dataframe\">\n",
       "  <thead>\n",
       "    <tr style=\"text-align: right;\">\n",
       "      <th></th>\n",
       "      <th>Height</th>\n",
       "      <th>Weight</th>\n",
       "      <th>Category</th>\n",
       "      <th>Date</th>\n",
       "    </tr>\n",
       "  </thead>\n",
       "  <tbody>\n",
       "    <tr>\n",
       "      <th>0</th>\n",
       "      <td>1.75</td>\n",
       "      <td>65</td>\n",
       "      <td>A</td>\n",
       "      <td>2021-01-01</td>\n",
       "    </tr>\n",
       "    <tr>\n",
       "      <th>1</th>\n",
       "      <td>1.80</td>\n",
       "      <td>70</td>\n",
       "      <td>B</td>\n",
       "      <td>2021-02-15</td>\n",
       "    </tr>\n",
       "    <tr>\n",
       "      <th>2</th>\n",
       "      <td>1.65</td>\n",
       "      <td>60</td>\n",
       "      <td>A</td>\n",
       "      <td>2021-03-20</td>\n",
       "    </tr>\n",
       "    <tr>\n",
       "      <th>3</th>\n",
       "      <td>1.90</td>\n",
       "      <td>80</td>\n",
       "      <td>C</td>\n",
       "      <td>2021-04-25</td>\n",
       "    </tr>\n",
       "  </tbody>\n",
       "</table>\n",
       "</div>"
      ],
      "text/plain": [
       "   Height  Weight Category       Date\n",
       "0    1.75      65        A 2021-01-01\n",
       "1    1.80      70        B 2021-02-15\n",
       "2    1.65      60        A 2021-03-20\n",
       "3    1.90      80        C 2021-04-25"
      ]
     },
     "execution_count": 39,
     "metadata": {},
     "output_type": "execute_result"
    }
   ],
   "source": [
    "df=pd.DataFrame(data)\n",
    "df"
   ]
  },
  {
   "cell_type": "markdown",
   "metadata": {},
   "source": [
    "# creating new feature"
   ]
  },
  {
   "cell_type": "code",
   "execution_count": 40,
   "metadata": {},
   "outputs": [],
   "source": [
    "df['BMI'] = df['Weight'] / (df['Height'] ** 2) # body mass index formula:wieght/height^2,^ = power\n"
   ]
  },
  {
   "cell_type": "code",
   "execution_count": 41,
   "metadata": {},
   "outputs": [
    {
     "data": {
      "text/html": [
       "<div>\n",
       "<style scoped>\n",
       "    .dataframe tbody tr th:only-of-type {\n",
       "        vertical-align: middle;\n",
       "    }\n",
       "\n",
       "    .dataframe tbody tr th {\n",
       "        vertical-align: top;\n",
       "    }\n",
       "\n",
       "    .dataframe thead th {\n",
       "        text-align: right;\n",
       "    }\n",
       "</style>\n",
       "<table border=\"1\" class=\"dataframe\">\n",
       "  <thead>\n",
       "    <tr style=\"text-align: right;\">\n",
       "      <th></th>\n",
       "      <th>Height</th>\n",
       "      <th>Weight</th>\n",
       "      <th>Category</th>\n",
       "      <th>Date</th>\n",
       "      <th>BMI</th>\n",
       "    </tr>\n",
       "  </thead>\n",
       "  <tbody>\n",
       "    <tr>\n",
       "      <th>0</th>\n",
       "      <td>1.75</td>\n",
       "      <td>65</td>\n",
       "      <td>A</td>\n",
       "      <td>2021-01-01</td>\n",
       "      <td>21.224490</td>\n",
       "    </tr>\n",
       "    <tr>\n",
       "      <th>1</th>\n",
       "      <td>1.80</td>\n",
       "      <td>70</td>\n",
       "      <td>B</td>\n",
       "      <td>2021-02-15</td>\n",
       "      <td>21.604938</td>\n",
       "    </tr>\n",
       "    <tr>\n",
       "      <th>2</th>\n",
       "      <td>1.65</td>\n",
       "      <td>60</td>\n",
       "      <td>A</td>\n",
       "      <td>2021-03-20</td>\n",
       "      <td>22.038567</td>\n",
       "    </tr>\n",
       "    <tr>\n",
       "      <th>3</th>\n",
       "      <td>1.90</td>\n",
       "      <td>80</td>\n",
       "      <td>C</td>\n",
       "      <td>2021-04-25</td>\n",
       "      <td>22.160665</td>\n",
       "    </tr>\n",
       "  </tbody>\n",
       "</table>\n",
       "</div>"
      ],
      "text/plain": [
       "   Height  Weight Category       Date        BMI\n",
       "0    1.75      65        A 2021-01-01  21.224490\n",
       "1    1.80      70        B 2021-02-15  21.604938\n",
       "2    1.65      60        A 2021-03-20  22.038567\n",
       "3    1.90      80        C 2021-04-25  22.160665"
      ]
     },
     "execution_count": 41,
     "metadata": {},
     "output_type": "execute_result"
    }
   ],
   "source": [
    "df"
   ]
  },
  {
   "cell_type": "markdown",
   "metadata": {},
   "source": [
    "# Transforming Existing Features: Log Transformation of Weight\n",
    "\n"
   ]
  },
  {
   "cell_type": "code",
   "execution_count": 42,
   "metadata": {},
   "outputs": [],
   "source": [
    "\n",
    "df['Log_Weight'] = np.log(df['Weight']) # reduce outliers from the weight column,make roburst\n"
   ]
  },
  {
   "cell_type": "code",
   "execution_count": 43,
   "metadata": {},
   "outputs": [
    {
     "data": {
      "text/html": [
       "<div>\n",
       "<style scoped>\n",
       "    .dataframe tbody tr th:only-of-type {\n",
       "        vertical-align: middle;\n",
       "    }\n",
       "\n",
       "    .dataframe tbody tr th {\n",
       "        vertical-align: top;\n",
       "    }\n",
       "\n",
       "    .dataframe thead th {\n",
       "        text-align: right;\n",
       "    }\n",
       "</style>\n",
       "<table border=\"1\" class=\"dataframe\">\n",
       "  <thead>\n",
       "    <tr style=\"text-align: right;\">\n",
       "      <th></th>\n",
       "      <th>Height</th>\n",
       "      <th>Weight</th>\n",
       "      <th>Category</th>\n",
       "      <th>Date</th>\n",
       "      <th>BMI</th>\n",
       "      <th>Log_Weight</th>\n",
       "    </tr>\n",
       "  </thead>\n",
       "  <tbody>\n",
       "    <tr>\n",
       "      <th>0</th>\n",
       "      <td>1.75</td>\n",
       "      <td>65</td>\n",
       "      <td>A</td>\n",
       "      <td>2021-01-01</td>\n",
       "      <td>21.224490</td>\n",
       "      <td>4.174387</td>\n",
       "    </tr>\n",
       "    <tr>\n",
       "      <th>1</th>\n",
       "      <td>1.80</td>\n",
       "      <td>70</td>\n",
       "      <td>B</td>\n",
       "      <td>2021-02-15</td>\n",
       "      <td>21.604938</td>\n",
       "      <td>4.248495</td>\n",
       "    </tr>\n",
       "    <tr>\n",
       "      <th>2</th>\n",
       "      <td>1.65</td>\n",
       "      <td>60</td>\n",
       "      <td>A</td>\n",
       "      <td>2021-03-20</td>\n",
       "      <td>22.038567</td>\n",
       "      <td>4.094345</td>\n",
       "    </tr>\n",
       "    <tr>\n",
       "      <th>3</th>\n",
       "      <td>1.90</td>\n",
       "      <td>80</td>\n",
       "      <td>C</td>\n",
       "      <td>2021-04-25</td>\n",
       "      <td>22.160665</td>\n",
       "      <td>4.382027</td>\n",
       "    </tr>\n",
       "  </tbody>\n",
       "</table>\n",
       "</div>"
      ],
      "text/plain": [
       "   Height  Weight Category       Date        BMI  Log_Weight\n",
       "0    1.75      65        A 2021-01-01  21.224490    4.174387\n",
       "1    1.80      70        B 2021-02-15  21.604938    4.248495\n",
       "2    1.65      60        A 2021-03-20  22.038567    4.094345\n",
       "3    1.90      80        C 2021-04-25  22.160665    4.382027"
      ]
     },
     "execution_count": 43,
     "metadata": {},
     "output_type": "execute_result"
    }
   ],
   "source": [
    "df"
   ]
  },
  {
   "cell_type": "markdown",
   "metadata": {},
   "source": [
    "# Handling Categorical Data: One-Hot Encoding\n",
    "\n"
   ]
  },
  {
   "cell_type": "code",
   "execution_count": 44,
   "metadata": {},
   "outputs": [],
   "source": [
    "\n",
    "df = pd.get_dummies(df, columns=['Category'])\n"
   ]
  },
  {
   "cell_type": "code",
   "execution_count": 45,
   "metadata": {},
   "outputs": [
    {
     "data": {
      "text/html": [
       "<div>\n",
       "<style scoped>\n",
       "    .dataframe tbody tr th:only-of-type {\n",
       "        vertical-align: middle;\n",
       "    }\n",
       "\n",
       "    .dataframe tbody tr th {\n",
       "        vertical-align: top;\n",
       "    }\n",
       "\n",
       "    .dataframe thead th {\n",
       "        text-align: right;\n",
       "    }\n",
       "</style>\n",
       "<table border=\"1\" class=\"dataframe\">\n",
       "  <thead>\n",
       "    <tr style=\"text-align: right;\">\n",
       "      <th></th>\n",
       "      <th>Height</th>\n",
       "      <th>Weight</th>\n",
       "      <th>Date</th>\n",
       "      <th>BMI</th>\n",
       "      <th>Log_Weight</th>\n",
       "      <th>Category_A</th>\n",
       "      <th>Category_B</th>\n",
       "      <th>Category_C</th>\n",
       "    </tr>\n",
       "  </thead>\n",
       "  <tbody>\n",
       "    <tr>\n",
       "      <th>0</th>\n",
       "      <td>1.75</td>\n",
       "      <td>65</td>\n",
       "      <td>2021-01-01</td>\n",
       "      <td>21.224490</td>\n",
       "      <td>4.174387</td>\n",
       "      <td>True</td>\n",
       "      <td>False</td>\n",
       "      <td>False</td>\n",
       "    </tr>\n",
       "    <tr>\n",
       "      <th>1</th>\n",
       "      <td>1.80</td>\n",
       "      <td>70</td>\n",
       "      <td>2021-02-15</td>\n",
       "      <td>21.604938</td>\n",
       "      <td>4.248495</td>\n",
       "      <td>False</td>\n",
       "      <td>True</td>\n",
       "      <td>False</td>\n",
       "    </tr>\n",
       "    <tr>\n",
       "      <th>2</th>\n",
       "      <td>1.65</td>\n",
       "      <td>60</td>\n",
       "      <td>2021-03-20</td>\n",
       "      <td>22.038567</td>\n",
       "      <td>4.094345</td>\n",
       "      <td>True</td>\n",
       "      <td>False</td>\n",
       "      <td>False</td>\n",
       "    </tr>\n",
       "    <tr>\n",
       "      <th>3</th>\n",
       "      <td>1.90</td>\n",
       "      <td>80</td>\n",
       "      <td>2021-04-25</td>\n",
       "      <td>22.160665</td>\n",
       "      <td>4.382027</td>\n",
       "      <td>False</td>\n",
       "      <td>False</td>\n",
       "      <td>True</td>\n",
       "    </tr>\n",
       "  </tbody>\n",
       "</table>\n",
       "</div>"
      ],
      "text/plain": [
       "   Height  Weight       Date        BMI  Log_Weight  Category_A  Category_B  \\\n",
       "0    1.75      65 2021-01-01  21.224490    4.174387        True       False   \n",
       "1    1.80      70 2021-02-15  21.604938    4.248495       False        True   \n",
       "2    1.65      60 2021-03-20  22.038567    4.094345        True       False   \n",
       "3    1.90      80 2021-04-25  22.160665    4.382027       False       False   \n",
       "\n",
       "   Category_C  \n",
       "0       False  \n",
       "1       False  \n",
       "2       False  \n",
       "3        True  "
      ]
     },
     "execution_count": 45,
     "metadata": {},
     "output_type": "execute_result"
    }
   ],
   "source": [
    "df"
   ]
  },
  {
   "cell_type": "markdown",
   "metadata": {},
   "source": [
    "# Extracting Date Features"
   ]
  },
  {
   "cell_type": "code",
   "execution_count": 47,
   "metadata": {},
   "outputs": [
    {
     "name": "stdout",
     "output_type": "stream",
     "text": [
      "   Height  Weight       Date        BMI  Log_Weight  Category_A  Category_B  \\\n",
      "0    1.75      65 2021-01-01  21.224490    4.174387        True       False   \n",
      "1    1.80      70 2021-02-15  21.604938    4.248495       False        True   \n",
      "2    1.65      60 2021-03-20  22.038567    4.094345        True       False   \n",
      "3    1.90      80 2021-04-25  22.160665    4.382027       False       False   \n",
      "\n",
      "   Category_C  Year  Month  \n",
      "0       False  2021      1  \n",
      "1       False  2021      2  \n",
      "2       False  2021      3  \n",
      "3        True  2021      4  \n"
     ]
    }
   ],
   "source": [
    "\n",
    "df['Year'] = df['Date'].dt.year\n",
    "df['Month'] = df['Date'].dt.month\n",
    "\n",
    "# Display the DataFrame with new features\n",
    "print(df)\n"
   ]
  }
 ],
 "metadata": {
  "kernelspec": {
   "display_name": "Python 3",
   "language": "python",
   "name": "python3"
  },
  "language_info": {
   "codemirror_mode": {
    "name": "ipython",
    "version": 3
   },
   "file_extension": ".py",
   "mimetype": "text/x-python",
   "name": "python",
   "nbconvert_exporter": "python",
   "pygments_lexer": "ipython3",
   "version": "3.12.0"
  }
 },
 "nbformat": 4,
 "nbformat_minor": 2
}
